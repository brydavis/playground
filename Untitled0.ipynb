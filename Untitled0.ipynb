{
 "metadata": {
  "name": "",
  "signature": "sha256:ab91d072b4e4b05d015a506891ce366e58d126f8d00b1b5fd5a6c553c59f36d6"
 },
 "nbformat": 3,
 "nbformat_minor": 0,
 "worksheets": []
}